{
 "cells": [
  {
   "cell_type": "code",
   "execution_count": null,
   "metadata": {},
   "outputs": [],
   "source": [
    "# download nltk and textblob first"
   ]
  },
  {
   "cell_type": "code",
   "execution_count": null,
   "metadata": {},
   "outputs": [],
   "source": [
    "# 1. grab data from websits\n",
    "# 2. split data\n",
    "# 3. kick out redundancy\n",
    "# 4. match word root\n",
    "# 5. count positive / negative\n",
    "# 6. ML prediction"
   ]
  },
  {
   "cell_type": "code",
   "execution_count": 5,
   "metadata": {},
   "outputs": [
    {
     "name": "stdout",
     "output_type": "stream",
     "text": [
      "[nltk_data] Downloading package punkt to /Users/irwin/nltk_data...\n",
      "[nltk_data]   Package punkt is already up-to-date!\n",
      "[nltk_data] Downloading package stopwords to /Users/irwin/nltk_data...\n",
      "[nltk_data]   Package stopwords is already up-to-date!\n",
      "[nltk_data] Downloading package averaged_perceptron_tagger to\n",
      "[nltk_data]     /Users/irwin/nltk_data...\n",
      "[nltk_data]   Package averaged_perceptron_tagger is already up-to-\n",
      "[nltk_data]       date!\n",
      "[nltk_data] Downloading package maxent_ne_chunker to\n",
      "[nltk_data]     /Users/irwin/nltk_data...\n",
      "[nltk_data]   Package maxent_ne_chunker is already up-to-date!\n",
      "[nltk_data] Downloading package words to /Users/irwin/nltk_data...\n",
      "[nltk_data]   Package words is already up-to-date!\n",
      "[nltk_data] Downloading package wordnet to /Users/irwin/nltk_data...\n",
      "[nltk_data]   Package wordnet is already up-to-date!\n"
     ]
    },
    {
     "data": {
      "text/plain": [
       "True"
      ]
     },
     "execution_count": 5,
     "metadata": {},
     "output_type": "execute_result"
    }
   ],
   "source": [
    "import matplotlib\n",
    "%matplotlib inline\n",
    "import nltk\n",
    "nltk.download('punkt')\n",
    "nltk.download('stopwords')\n",
    "nltk.download('averaged_perceptron_tagger')\n",
    "nltk.download('maxent_ne_chunker')\n",
    "nltk.download('words')\n",
    "nltk.download('wordnet')"
   ]
  },
  {
   "cell_type": "code",
   "execution_count": 104,
   "metadata": {},
   "outputs": [],
   "source": [
    "# read\n",
    "with open('./news1.txt','r') as f:\n",
    "    txt = f.read()\n",
    "\n",
    "# get stop words\n",
    "stop_words = nltk.corpus.stopwords.words('english')\n",
    "\n",
    "def preprocess(txt):\n",
    "    # split into sentencs and words\n",
    "    # sentences = nltk.sent_tokenize(txt)\n",
    "    # this one can't delete punctuation\n",
    "    # words = word_tokenize(txt, language='english')\n",
    "    \n",
    "    # delete punctuation and split\n",
    "    tokenizer = nltk.tokenize.RegexpTokenizer(r'\\w+')\n",
    "    words = tokenizer.tokenize(txt)\n",
    "\n",
    "    # kick out stop words\n",
    "    words = [w for w in words if w not in stop_words]\n",
    "\n",
    "    # property of a word\n",
    "    # tagged_words = nltk.pos_tag(words) \n",
    "    # ner_words = nltk.ne_chunk(tagged_words)\n",
    "    \n",
    "    # match the word root, stemmer is faster, PorterStemmer is more accurate\n",
    "    # stemmer = nltk.stem.PorterStemmer()\n",
    "    # root_words = [stemmer.stem(word) for word in words]\n",
    "    lemmatizer = nltk.stem.WordNetLemmatizer()\n",
    "    root_words = [lemmatizer.lemmatize(word) for word in words]\n",
    "    \n",
    "    # check the most frequent words\n",
    "    # freq = nltk.probability.FreqDist(root_words)\n",
    "    # print(freq.most_common(10))\n",
    "    \n",
    "    return \" \".join(root_words)"
   ]
  },
  {
   "cell_type": "code",
   "execution_count": 106,
   "metadata": {},
   "outputs": [
    {
     "data": {
      "text/plain": [
       "Sentiment(polarity=0.07333799758042184, subjectivity=0.3578703703703704)"
      ]
     },
     "execution_count": 106,
     "metadata": {},
     "output_type": "execute_result"
    }
   ],
   "source": [
    "# sentiment package\n",
    "from textblob import TextBlob\n",
    "tem = TextBlob(preprocess(txt))\n",
    "# polarity = <0 means negative, >0 means positive\n",
    "tem.sentences[0].sentiment"
   ]
  },
  {
   "cell_type": "code",
   "execution_count": 117,
   "metadata": {},
   "outputs": [
    {
     "name": "stdout",
     "output_type": "stream",
     "text": [
      "Sentiment(polarity=0.3333333333333333, subjectivity=0.8666666666666667)\n",
      "Sentiment(polarity=0.0, subjectivity=0.0)\n",
      "Sentiment(polarity=-0.4, subjectivity=0.7)\n",
      "Sentiment(polarity=0.0, subjectivity=0.0)\n"
     ]
    }
   ],
   "source": [
    "t1 = \"I'm tired but happy, anyway the result works, kind of.\"\n",
    "t2 = \"This professor sucks. I will drop this course.\"\n",
    "t3 = \"I am confused. I need to do more.\"\n",
    "t4 = \"He is a machine with no emotion. why polarity is 0\"\n",
    "print(TextBlob(preprocess(t1)).sentences[0].sentiment)\n",
    "print(TextBlob(preprocess(t2)).sentences[0].sentiment)\n",
    "print(TextBlob(preprocess(t3)).sentences[0].sentiment)\n",
    "print(TextBlob(preprocess(t4)).sentences[0].sentiment)"
   ]
  },
  {
   "cell_type": "code",
   "execution_count": null,
   "metadata": {},
   "outputs": [],
   "source": []
  }
 ],
 "metadata": {
  "kernelspec": {
   "display_name": "Python 3",
   "language": "python",
   "name": "python3"
  },
  "language_info": {
   "codemirror_mode": {
    "name": "ipython",
    "version": 3
   },
   "file_extension": ".py",
   "mimetype": "text/x-python",
   "name": "python",
   "nbconvert_exporter": "python",
   "pygments_lexer": "ipython3",
   "version": "3.6.4"
  }
 },
 "nbformat": 4,
 "nbformat_minor": 2
}
